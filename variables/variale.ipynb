{
 "cells": [
  {
   "cell_type": "markdown",
   "id": "f7691408",
   "metadata": {},
   "source": [
    "### Variable declaration Type\n"
   ]
  },
  {
   "cell_type": "code",
   "execution_count": null,
   "id": "dacf9674",
   "metadata": {},
   "outputs": [
    {
     "name": "stdout",
     "output_type": "stream",
     "text": [
      "Shailendra\n",
      "Singh\n"
     ]
    }
   ],
   "source": [
    "_name = \"Shailendra\"     # this is first variable\n",
    "Name=\"Singh\"  # this is another variable\n",
    "print(_name)\n",
    "print(Name)\n"
   ]
  },
  {
   "cell_type": "markdown",
   "id": "9ea8a80e",
   "metadata": {},
   "source": [
    "## Indentation\n",
    "##  Indentation in Python refers to the spaces or tabs used at the beginning of a line of code to define the structure of the program"
   ]
  },
  {
   "cell_type": "code",
   "execution_count": 9,
   "id": "3f5bf52a",
   "metadata": {},
   "outputs": [
    {
     "name": "stdout",
     "output_type": "stream",
     "text": [
      "Hello, Singh!\n",
      "Welcome, Shailendra!\n"
     ]
    }
   ],
   "source": [
    "# Example of proper indentation\n",
    "if Name == \"Singh\":\n",
    "    print(f\"Hello, {Name}!\")\n",
    "    if _name == \"Shailendra\":\n",
    "        print(f\"Welcome, {_name}!\")"
   ]
  },
  {
   "cell_type": "markdown",
   "id": "09e56d64",
   "metadata": {},
   "source": []
  }
 ],
 "metadata": {
  "kernelspec": {
   "display_name": "venv",
   "language": "python",
   "name": "python3"
  },
  "language_info": {
   "codemirror_mode": {
    "name": "ipython",
    "version": 3
   },
   "file_extension": ".py",
   "mimetype": "text/x-python",
   "name": "python",
   "nbconvert_exporter": "python",
   "pygments_lexer": "ipython3",
   "version": "3.12.7"
  }
 },
 "nbformat": 4,
 "nbformat_minor": 5
}
