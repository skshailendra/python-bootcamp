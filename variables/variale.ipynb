{
 "cells": [
  {
   "cell_type": "markdown",
   "id": "0",
   "metadata": {},
   "source": [
    "### Variable declaration Type\n"
   ]
  },
  {
   "cell_type": "code",
   "execution_count": null,
   "id": "1",
   "metadata": {},
   "outputs": [],
   "source": [
    "_name = \"Shailendra\"     # this is first variable\n",
    "Name=\"Singh\"  # this is another variable\n",
    "print(_name)\n",
    "print(Name)\n"
   ]
  },
  {
   "cell_type": "markdown",
   "id": "2",
   "metadata": {},
   "source": [
    "## Indentation\n",
    "##  Indentation in Python refers to the spaces or tabs used at the beginning of a line of code to define the structure of the program"
   ]
  },
  {
   "cell_type": "code",
   "execution_count": null,
   "id": "3",
   "metadata": {},
   "outputs": [],
   "source": [
    "# Example of proper indentation\n",
    "if Name == \"Singh\":\n",
    "    print(f\"Hello, {Name}!\")\n",
    "    if _name == \"Shailendra\":\n",
    "        print(f\"Welcome, {_name}!\")"
   ]
  },
  {
   "cell_type": "code",
   "execution_count": null,
   "id": "4",
   "metadata": {},
   "outputs": [],
   "source": [
    "total = 1+2+3+\\\n",
    "    4+5\n",
    "print(total)"
   ]
  },
  {
   "cell_type": "code",
   "execution_count": null,
   "id": "5",
   "metadata": {},
   "outputs": [],
   "source": [
    "age = 32;\n",
    "if age > 30:\n",
    "    print(\"Age\",age)"
   ]
  },
  {
   "cell_type": "code",
   "execution_count": null,
   "id": "6",
   "metadata": {},
   "outputs": [],
   "source": [
    "## Multiple statements on a single line\n",
    "x= 5;y = 10;z = x+y;\n",
    "print(z);"
   ]
  },
  {
   "cell_type": "code",
   "execution_count": null,
   "id": "7",
   "metadata": {},
   "outputs": [],
   "source": [
    "## Type Checking\n",
    "age = 30\n",
    "name=\"Shailendra\"\n",
    "type(name)\n",
    "#type(age)"
   ]
  },
  {
   "cell_type": "code",
   "execution_count": null,
   "id": "8",
   "metadata": {},
   "outputs": [],
   "source": [
    "## Type inference\n",
    "address = \"123 MAin Str\"\n",
    "print(type(address))\n",
    "address = 123\n",
    "print(type(address))"
   ]
  }
 ],
 "metadata": {
  "kernelspec": {
   "display_name": "venv",
   "language": "python",
   "name": "python3"
  },
  "language_info": {
   "codemirror_mode": {
    "name": "ipython",
    "version": 3
   },
   "file_extension": ".py",
   "mimetype": "text/x-python",
   "name": "python",
   "nbconvert_exporter": "python",
   "pygments_lexer": "ipython3",
   "version": "3.12.7"
  }
 },
 "nbformat": 4,
 "nbformat_minor": 5
}
